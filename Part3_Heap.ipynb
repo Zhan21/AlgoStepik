{
 "cells": [
  {
   "cell_type": "markdown",
   "id": "894dabea",
   "metadata": {},
   "source": [
    "* Indexing for numbering from 0: \\\n",
    "`Parent(i) = (i - 1) // 2`, \\\n",
    "`Left(i) = 2i + 1`, \\\n",
    "`Right(i) = 2i + 2`\n",
    "\n",
    "**TO DO:** Сделать класс heap с атрибутом heapSize\n",
    "\n",
    "`sift_up` работает быстрее, чем `sift_down`, так как последнему надо сравнить вершину с двумя детьми, тогда как `sift_up` только с одним родителем. Это не критично в двоичном дереве, но если дерево $d$-ичное, то скорость работы `sift_down` будет $O(d\\, log(n))$, тогда как у `sift_up` все также $O(n\\, log(n))$."
   ]
  },
  {
   "cell_type": "code",
   "execution_count": 1,
   "id": "03670297",
   "metadata": {},
   "outputs": [],
   "source": [
    "# Min-heap for queue\n",
    "def minSiftUp(a, i):  # O(log(n))\n",
    "    while a[(i - 1) // 2] > a[i]:\n",
    "        a[(i - 1) // 2], a[i] = a[i], a[(i - 1) // 2]\n",
    "        i = (i - 1) // 2\n",
    "    return a\n",
    "\n",
    "\n",
    "def minSiftDown(a, i):  # O(log(n))\n",
    "    while 2 * i + 1 < len(a):\n",
    "        l = 2 * i + 1\n",
    "        r = 2 * i + 2\n",
    "        smallest = l\n",
    "        if r < len(a) and a[r] < a[l]:\n",
    "            smallest = r\n",
    "        if a[i] <= a[smallest]:\n",
    "            break\n",
    "        a[smallest], a[i] = a[i], a[smallest]\n",
    "        i = smallest\n",
    "    return a"
   ]
  },
  {
   "cell_type": "markdown",
   "id": "2bd81df3",
   "metadata": {},
   "source": [
    "То же самое, что и `minSiftDown` в рекуррентном исполнении."
   ]
  },
  {
   "cell_type": "code",
   "execution_count": 2,
   "id": "7d06b9d2",
   "metadata": {},
   "outputs": [],
   "source": [
    "def minHeapify(A, i):  # O(log(n))\n",
    "    l = 2 * i + 1\n",
    "    r = 2 * i + 2\n",
    "    smallest = i\n",
    "    if l < len(A) and A[l] < A[i]:\n",
    "        smallest = l\n",
    "    if r < len(a) and A[r] < A[smallest]:\n",
    "        smallest = r\n",
    "    if smallest != i:\n",
    "        A[smallest], A[i] = A[i], A[smallest]\n",
    "        minHeapify(A, smallest)\n",
    "        "
   ]
  },
  {
   "cell_type": "code",
   "execution_count": 3,
   "id": "40022c45",
   "metadata": {},
   "outputs": [
    {
     "name": "stdout",
     "output_type": "stream",
     "text": [
      "[4, 18, 7, 20, 21, 18, 42, 53, 22, 5]\n"
     ]
    },
    {
     "data": {
      "text/plain": [
       "[4, 5, 7, 20, 18, 18, 42, 53, 22, 21]"
      ]
     },
     "execution_count": 3,
     "metadata": {},
     "output_type": "execute_result"
    }
   ],
   "source": [
    "a = [4, 18, 7, 20, 21, 18, 42, 53, 22] + [5]\n",
    "print(a)\n",
    "minSiftUp(a, 9)"
   ]
  },
  {
   "cell_type": "code",
   "execution_count": null,
   "id": "d21420ec",
   "metadata": {},
   "outputs": [],
   "source": [
    "[4, 7, 18, 19, 20, 21, 18, 42, 53, 22]"
   ]
  },
  {
   "cell_type": "code",
   "execution_count": 4,
   "id": "f7927fd3",
   "metadata": {},
   "outputs": [
    {
     "name": "stdout",
     "output_type": "stream",
     "text": [
      "[19, 4, 18, 7, 20, 21, 18, 42, 53, 22]\n"
     ]
    },
    {
     "data": {
      "text/plain": [
       "[4, 7, 18, 19, 20, 21, 18, 42, 53, 22]"
      ]
     },
     "execution_count": 4,
     "metadata": {},
     "output_type": "execute_result"
    }
   ],
   "source": [
    "a = [19] + [4, 18, 7, 20, 21, 18, 42, 53, 22]\n",
    "print(a)\n",
    "minSiftDown(a, 0)"
   ]
  },
  {
   "cell_type": "code",
   "execution_count": 2,
   "id": "b44faf2c",
   "metadata": {},
   "outputs": [],
   "source": [
    "# Max-heap for HeapSort and queue\n",
    "def maxSiftUp(a, i):  # O(log(n))\n",
    "    while a[(i - 1) // 2] < a[i] and i != 0:\n",
    "        a[(i - 1) // 2], a[i] = a[i], a[(i - 1) // 2]\n",
    "        i = (i - 1) // 2\n",
    "\n",
    "\n",
    "def maxSiftDown(a, i):  # O(2 * log(n))\n",
    "    while 2 * i + 1 < len(a):\n",
    "        l = 2 * i + 1\n",
    "        r = 2 * i + 2\n",
    "        largest = l\n",
    "        if r < len(a) and a[r] > a[l]:\n",
    "            largest = r\n",
    "        if a[i] >= a[largest]:\n",
    "            break\n",
    "        a[largest], a[i] = a[i], a[largest]\n",
    "        i = largest\n",
    "\n",
    "\n",
    "def extractMax(a):\n",
    "    max_el = a[0]\n",
    "    if len(a) != 1:\n",
    "        a[0] = a.pop(-1)\n",
    "        maxSiftDown(a, 0)\n",
    "    else:\n",
    "        a.pop(0)  # краевой случай a = []\n",
    "    return max_el"
   ]
  },
  {
   "cell_type": "code",
   "execution_count": 44,
   "id": "79b92b10",
   "metadata": {},
   "outputs": [
    {
     "data": {
      "text/plain": [
       "[200, 10]"
      ]
     },
     "execution_count": 44,
     "metadata": {},
     "output_type": "execute_result"
    }
   ],
   "source": [
    "a = [10, 200]\n",
    "maxSiftDown(a, 0, 2)\n",
    "a"
   ]
  },
  {
   "cell_type": "markdown",
   "id": "c2b066f4",
   "metadata": {},
   "source": [
    "### Задание 1. \n",
    "Первая строка входа содержит число операций $1 \\le n \\le 10^5$. Каждая из последующих $n$ строк задают операцию одного из следующих двух типов:\n",
    "\n",
    "* `Insert x`, где $0 \\le x \\le 10^9$ — целое число;\n",
    "* `ExtractMax`.\n",
    "\n",
    "Первая операция добавляет число $x$ в очередь с приоритетами, вторая — извлекает максимальное число и выводит его."
   ]
  },
  {
   "cell_type": "code",
   "execution_count": 4,
   "id": "6e6d4370",
   "metadata": {},
   "outputs": [
    {
     "name": "stdout",
     "output_type": "stream",
     "text": [
      "[200]\n",
      "[200, 10]\n",
      "[200, 10, 5]\n",
      "[500, 200, 5, 10]\n",
      "ExtractMax: 500\n",
      "ExtractMax: 200\n",
      "ExtractMax: 10\n",
      "ExtractMax: 5\n",
      "[1000]\n",
      "ExtractMax: 1000\n"
     ]
    }
   ],
   "source": [
    "with open('test.txt', 'r') as f:\n",
    "    n = int(f.readline())\n",
    "    a = []\n",
    "    for _ in range(n):\n",
    "        command = f.readline().split()\n",
    "        if command[0] == 'Insert':\n",
    "            a.append(int(command[1]))\n",
    "            maxSiftUp(a, len(a) - 1)\n",
    "            print(a)\n",
    "            \n",
    "        elif command[0] == 'ExtractMax':\n",
    "            print('ExtractMax: {}'.format(extractMax(a)))"
   ]
  },
  {
   "cell_type": "code",
   "execution_count": 89,
   "id": "28b9fa5a",
   "metadata": {},
   "outputs": [
    {
     "data": {
      "text/plain": [
       "[5]"
      ]
     },
     "execution_count": 89,
     "metadata": {},
     "output_type": "execute_result"
    }
   ],
   "source": [
    "a"
   ]
  },
  {
   "cell_type": "code",
   "execution_count": null,
   "id": "2a597a86",
   "metadata": {},
   "outputs": [],
   "source": []
  },
  {
   "cell_type": "code",
   "execution_count": null,
   "id": "9d668919",
   "metadata": {},
   "outputs": [],
   "source": []
  },
  {
   "cell_type": "code",
   "execution_count": null,
   "id": "d284f2c3",
   "metadata": {},
   "outputs": [],
   "source": []
  },
  {
   "cell_type": "code",
   "execution_count": null,
   "id": "0285bacc",
   "metadata": {},
   "outputs": [],
   "source": []
  }
 ],
 "metadata": {
  "kernelspec": {
   "display_name": "Python 3 (ipykernel)",
   "language": "python",
   "name": "python3"
  },
  "language_info": {
   "codemirror_mode": {
    "name": "ipython",
    "version": 3
   },
   "file_extension": ".py",
   "mimetype": "text/x-python",
   "name": "python",
   "nbconvert_exporter": "python",
   "pygments_lexer": "ipython3",
   "version": "3.11.2"
  }
 },
 "nbformat": 4,
 "nbformat_minor": 5
}
