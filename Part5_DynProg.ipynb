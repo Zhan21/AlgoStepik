{
 "cells": [
  {
   "cell_type": "markdown",
   "id": "c43789cc",
   "metadata": {},
   "source": [
    "### Занятие. Наибольшая возрастающая подпоследовательность"
   ]
  },
  {
   "cell_type": "code",
   "execution_count": 42,
   "id": "3f9a9b1a",
   "metadata": {},
   "outputs": [],
   "source": [
    "def largestIncreasingSubsequence(A, n):\n",
    "    D = [0] * n\n",
    "    prev = [0] * n\n",
    "    for i in range(n):\n",
    "        D[i] = 1\n",
    "        prev[i] = -1\n",
    "        for j in range(i):\n",
    "            if A[i] > A[j] and D[j] + 1 > D[i]:\n",
    "                D[i] = D[j] + 1\n",
    "                prev[i] = j\n",
    "                \n",
    "    k = max(D)\n",
    "    ind = D.index(max(D))  # индекс максимума\n",
    "    lis_ind = [0] * k\n",
    "    for i in range(k):\n",
    "        lis_ind[k-i-1] = ind\n",
    "        ind = prev[ind]\n",
    "    return k, lis_ind"
   ]
  },
  {
   "cell_type": "code",
   "execution_count": 24,
   "id": "e835b2cb",
   "metadata": {},
   "outputs": [
    {
     "data": {
      "text/plain": [
       "(5, [1, 3, 5, 9, 11])"
      ]
     },
     "execution_count": 24,
     "metadata": {},
     "output_type": "execute_result"
    }
   ],
   "source": [
    "a = [7, 2, 1, 3, 8, 4, 9, 1, 2, 6, 5, 9, 3, 8, 1]\n",
    "k, inds = largestIncreasingSubsequence(a, len(a))\n",
    "k, inds"
   ]
  },
  {
   "cell_type": "markdown",
   "id": "88672fa4",
   "metadata": {},
   "source": [
    "### Задание 1. Наибольшая последовательнократная подпоследовательность\n",
    "\n",
    "Дано целое число $1≤n≤10^3$ и массив $A[1…n]$ натуральных чисел, не превосходящих $2⋅10^9$. Выведите максимальное $1≤k≤n$, для которого найдётся подпоследовательность $1≤i_1<i_2<…<i_k≤n$ длины $k$, в которой каждый элемент делится на предыдущий (формально: для  всех $1≤j<k$, $A[i_{j}] ∣ A[i_{j+1}]$)."
   ]
  },
  {
   "cell_type": "code",
   "execution_count": 32,
   "id": "50eba709",
   "metadata": {},
   "outputs": [],
   "source": [
    "def largestDivisibleSubsequence(A, n):\n",
    "    D = [0] * n\n",
    "    for i in range(n):\n",
    "        D[i] = 1\n",
    "        for j in range(i):\n",
    "            if (A[i] % A[j] == 0) and (D[j] + 1 > D[i]):\n",
    "                D[i] = D[j] + 1\n",
    "    return max(D)"
   ]
  },
  {
   "cell_type": "code",
   "execution_count": 34,
   "id": "fad4e00f",
   "metadata": {},
   "outputs": [
    {
     "data": {
      "text/plain": [
       "3"
      ]
     },
     "execution_count": 34,
     "metadata": {},
     "output_type": "execute_result"
    }
   ],
   "source": [
    "a = [3, 6, 7, 12]\n",
    "k = largestDivisibleSubsequence(a, len(a))\n",
    "k"
   ]
  },
  {
   "cell_type": "markdown",
   "id": "46de03b8",
   "metadata": {},
   "source": [
    "### Задание 2. Наибольшая невозрастающая подпоследовательность\n",
    "Сложность: $nlogn$\n",
    "\n",
    "Дано целое число $1≤n≤10^5$ и массив $A[1…n]$, содержащий неотрицательные целые числа, не превосходящие 10^9. Найдите наибольшую невозрастающую подпоследовательность в $A$. В первой строке выведите её длину $k$, во второй — её индексы $1≤i_1<i_2<…<i_k≤n$ (таким образом, $A[i_1]≥A[i_2]≥…≥A[i_n]$)."
   ]
  },
  {
   "cell_type": "code",
   "execution_count": 223,
   "id": "eb0647bf",
   "metadata": {},
   "outputs": [
    {
     "name": "stdout",
     "output_type": "stream",
     "text": [
      "4\n",
      "1 3 4 5\n"
     ]
    }
   ],
   "source": [
    "# https://foxford.ru/wiki/informatika/naibolshaya-vozrastayuschaya-podposledovatelnost\n",
    "def LDS_nlogn(A, n):\n",
    "    INF = 10 ** 10\n",
    "    F = [-INF] * (n + 1)  # F монотонно убывает\n",
    "    F[0] = INF\n",
    "    prev = []\n",
    "    for i in range(n):\n",
    "        l, r = 0, n\n",
    "        while r > l + 1:\n",
    "            middle = (l + r) // 2\n",
    "            if F[middle] < A[i]:\n",
    "                r = middle\n",
    "            else:\n",
    "                l = middle\n",
    "        F[r] = A[i]\n",
    "        prev.append([r, i, A[i]])\n",
    "    ans = 0\n",
    "    for i in range(n+1):\n",
    "        if F[i] != INF and F[i] != -INF:\n",
    "            ans += 1\n",
    "            \n",
    "    index_list = [0] * ans\n",
    "    cnt = ans\n",
    "\n",
    "    for k, i, _ in prev[::-1]:\n",
    "        if k == cnt:\n",
    "            index_list[k-1] = i+1\n",
    "            cnt -= 1\n",
    "            \n",
    "    return ans, index_list\n",
    "\n",
    "seq = [5, 3, 4, 4, 2, 5, 9]\n",
    "k, inds = LDS_nlogn(seq, len(seq))\n",
    "print(k)\n",
    "print((\" \").join(map(str, inds)))"
   ]
  },
  {
   "cell_type": "code",
   "execution_count": 224,
   "id": "b8d1147d",
   "metadata": {},
   "outputs": [],
   "source": [
    "a = [1]\n",
    "b = [2, 1]\n",
    "c = [5, 3, 4, 4, 2, 5, 9]\n",
    "d = [i for i in range(100, 0, -1)]\n",
    "\n",
    "assert LDS_nlogn(a, len(a)) == (1, [1]), \"WA\"\n",
    "assert LDS_nlogn(b, len(b)) == (2, [1, 2]), \"WA\"\n",
    "assert LDS_nlogn(c, len(c)) == (4, [1, 3, 4, 5]), \"WA\"\n",
    "assert LDS_nlogn(d, len(d)) == (100, list(range(1, 101))), \"WA\""
   ]
  },
  {
   "cell_type": "markdown",
   "id": "8833fa1e",
   "metadata": {},
   "source": [
    "### Задание 3. Расстояние редактирования (Левенштейна)\n",
    "\n",
    "Вычислите расстояние редактирования двух данных непустых строк длины не более $10^2$, содержащих строчные буквы латинского алфавита."
   ]
  },
  {
   "cell_type": "code",
   "execution_count": 207,
   "id": "867ca1bd",
   "metadata": {},
   "outputs": [],
   "source": [
    "def edit_distance(s1, s2):\n",
    "    try:\n",
    "        n, m = len(s1), len(s2)\n",
    "    except:\n",
    "        print(\"Input must be str()\")\n",
    "    else:\n",
    "        D = [[0] * (m+1) for _ in range(n+1)]\n",
    "\n",
    "        for i in range(n + 1):\n",
    "            D[i][0] = i\n",
    "        for j in range(m + 1):\n",
    "            D[0][j] = j\n",
    "\n",
    "        for i, ch1 in enumerate(s1, start=1):\n",
    "            for j, ch2 in enumerate(s2, start=1):\n",
    "                D[i][j] = min(D[i-1][j] + 1,\n",
    "                              D[i][j-1] + 1,\n",
    "                              D[i-1][j-1] + (ch1 != ch2))\n",
    "        return D[n][m]\n",
    "\n",
    "# s1, s2 = input(), input()\n",
    "# print(edit_distance(s1, s2))"
   ]
  },
  {
   "cell_type": "code",
   "execution_count": 212,
   "id": "36672e05",
   "metadata": {
    "scrolled": true
   },
   "outputs": [
    {
     "name": "stdout",
     "output_type": "stream",
     "text": [
      "Input must be str()\n"
     ]
    }
   ],
   "source": [
    "edit_distance(1, \"ab\")"
   ]
  },
  {
   "cell_type": "code",
   "execution_count": 214,
   "id": "0d811bb6",
   "metadata": {},
   "outputs": [],
   "source": [
    "assert edit_distance(\"ab\", \"ab\") == 0, \"WA\"\n",
    "assert edit_distance(\"short\", \"ports\") == 3, \"WA\""
   ]
  },
  {
   "cell_type": "code",
   "execution_count": null,
   "id": "325fd54a",
   "metadata": {},
   "outputs": [],
   "source": []
  },
  {
   "cell_type": "markdown",
   "id": "430baa92",
   "metadata": {},
   "source": [
    "### Занятие. Рюкзак с повторениями\n",
    "\n",
    "Создаем массив стоимости рюкзака $D[0...0]$ и заполним снизу вверх Bottom Up\\\n",
    "Оптимальность: $D[w]$ = max стоимость рюкзака вместимости w\\\n",
    "Подзадача: заполнить рюкзак вместимости $w - w_i$\n",
    "\n",
    "$$D[w] = \\max_{w_i \\le w} D[w - w_i] + c_i$$"
   ]
  },
  {
   "cell_type": "code",
   "execution_count": 152,
   "id": "ac155ffb",
   "metadata": {},
   "outputs": [],
   "source": [
    "W, n = 10, 5\n",
    "w_list = [3, 5, 6, 1, 9]\n",
    "c_list = [400, 200, 700, 120, 1000]\n",
    "\n",
    "def KnapSackBU_Reps(W, n, w_list, c_list):\n",
    "    D = [0] * (W+1)\n",
    "    \n",
    "    for w in range(1, W+1):\n",
    "        for i in range(n):\n",
    "            w_i, c_i = w_list[i], c_list[i]\n",
    "            \n",
    "            if w_i <= w:\n",
    "                D[w] = max(D[w], D[w - w_i] + c_i)\n",
    "\n",
    "    return D[W]"
   ]
  },
  {
   "cell_type": "code",
   "execution_count": 153,
   "id": "93b2446d",
   "metadata": {},
   "outputs": [
    {
     "data": {
      "text/plain": [
       "1320"
      ]
     },
     "execution_count": 153,
     "metadata": {},
     "output_type": "execute_result"
    }
   ],
   "source": [
    "KnapSackBU_Reps(W, n, w_list, c_list)\n",
    "# 400 + 400 + 400 + 120"
   ]
  },
  {
   "cell_type": "markdown",
   "id": "45fc8b34",
   "metadata": {},
   "source": [
    "### Задача 4. Рюкзак без повторений\n",
    "\n",
    "Первая строка входа содержит целые числа $1≤W≤10^4$ и $1≤n≤300$ — вместимость рюкзака и число золотых слитков. Следующая строка содержит $n$ целых чисел $0≤w_1,…,w_n≤10^5$, задающих веса слитков. Найдите максимальный вес золота, который можно унести в рюкзаке.\n",
    "\n",
    "**Решение:** \\\n",
    "$w_i$ - вес слитка $i$ \\\n",
    "$c_i = w_i$ - стоимость слитка $i$ пропорциональна весу, максимизируем вес слитков \\\n",
    "$D[w, i]$ = max стоимость рюкзака вместимости $w$, при использовании предметов $1...i$ \\\n",
    "!Важно предметы отсортированы по весу\n",
    "\n",
    "Предмет $i$ либо используем, либо не используем\n",
    "$$\n",
    "D[w, i] = \\max_{w_i \\le w} D[w - w_i, i - 1] + c_i, \\\\\n",
    "D[w, i] = D[w, i - 1]\n",
    "$$\n",
    "Выбираем максимум из двух вариантов"
   ]
  },
  {
   "cell_type": "code",
   "execution_count": 11,
   "id": "067eb411",
   "metadata": {},
   "outputs": [],
   "source": [
    "W, n = 10, 3\n",
    "w_arr = [1, 4, 8]"
   ]
  },
  {
   "cell_type": "code",
   "execution_count": 28,
   "id": "669f9eb7",
   "metadata": {},
   "outputs": [],
   "source": [
    "def KnapSackBU_NoReps(W, n, w_arr):\n",
    "    D = [[0] * (n+1) for _ in range(W+1)]\n",
    "\n",
    "    for i in range(1, n+1):\n",
    "        w_i = w_arr[i-1]\n",
    "\n",
    "        for w in range(1, W+1):\n",
    "\n",
    "            D[w][i] = D[w][i-1]  # не используя предмет i\n",
    "            if w_i <= w:         # обновляем, если лучше использовать предмет i\n",
    "                D[w][i] = max(D[w-w_i][i-1] + w_i, D[w][i]) \n",
    "\n",
    "    return D[W][n]"
   ]
  },
  {
   "cell_type": "code",
   "execution_count": null,
   "id": "cd244c64",
   "metadata": {},
   "outputs": [],
   "source": [
    "W, n = map(int, input().split())\n",
    "w_arr = list(map(int, input().split()))\n",
    "\n",
    "print(KnapSackBU_NoReps(W, n, w_arr))"
   ]
  },
  {
   "cell_type": "markdown",
   "id": "d17e111d",
   "metadata": {},
   "source": [
    "### Задача 5. Лестница\n",
    "\n",
    "Даны число $1≤n≤10^2$ ступенек лестницы и целые числа $−10^4≤a_1,…,a_n≤10^4$, которыми помечены ступеньки. Найдите максимальную сумму, которую можно получить, идя по лестнице снизу вверх (от нулевой до $n$-й ступеньки), каждый раз поднимаясь на одну или две ступеньки.\n",
    "\n",
    "**Решение:** \\\n",
    "Оптимальность: если ступень $i$ оптимальна (дает макс сумму), то либо ступень $i-1$, либо $i-2$ тоже оптимальна \\\n",
    "$D[i]$ - максимальная сумма ступенек на ступеньке $i$ \\\n",
    "Подзадачи: $D[i-1]$, $D[i-2]$"
   ]
  },
  {
   "cell_type": "code",
   "execution_count": 124,
   "id": "70ee59e5",
   "metadata": {},
   "outputs": [],
   "source": [
    "def StairsBU(n, slabs):\n",
    "    if n == 1:\n",
    "        return slabs[0]\n",
    "    \n",
    "    INF = 10 ** 5\n",
    "    D = [-INF] * (n+1)\n",
    "    D[0] = slabs[0]\n",
    "    D[1] = max(slabs[0]+slabs[1], slabs[1])\n",
    "    \n",
    "    for i in range(2, n):\n",
    "        s_i = slabs[i]\n",
    "        D[i] = max(D[i-1] + s_i, D[i-2] + s_i)\n",
    "        \n",
    "    return D[n-1]"
   ]
  },
  {
   "cell_type": "code",
   "execution_count": 125,
   "id": "210dbcf2",
   "metadata": {},
   "outputs": [
    {
     "data": {
      "text/plain": [
       "3"
      ]
     },
     "execution_count": 125,
     "metadata": {},
     "output_type": "execute_result"
    }
   ],
   "source": [
    "n = 3\n",
    "slabs = [2, -1, 1]\n",
    "StairsBU(n, slabs)"
   ]
  },
  {
   "cell_type": "markdown",
   "id": "2173ef26",
   "metadata": {},
   "source": [
    "### Задача 6. Примитивный калькулятор\n",
    "\n",
    "У вас есть примитивный калькулятор, который умеет выполнять всего три операции с текущим числом $x$: заменить $x$ на $2x$, $3x$ или $x+1$. По данному целому числу $1≤n≤10^5$ определите минимальное число операций $k$, необходимое, чтобы получить $n$ из $1$. Выведите $k$ и последовательность промежуточных чисел.\n",
    "\n",
    "**Решение:** \\\n",
    "Надо получить число n методом Bottom Up, считаем число 1 оптимальным \\\n",
    "$D[i]$ - количество операций чтобы получить число i \\\n",
    "Подзадачи: $D[i / 3]$, $D[i / 2]$ (если делятся), $D[i - 1]$\n",
    "\n",
    "D[1] = 0 \\\n",
    "D[2] = D[1] + 1 or D[2 / 2] + 1 = 1 \\\n",
    "D[3] = D[2] + 1 or D[3 / 3] + 1 = 1 \\\n",
    "D[4] = D[3] + 1 or D[4 / 2] + 1 = 2 \\\n",
    "D[5] = D[4] + 1 = 3 \\\n",
    "D[6] = D[5] + 1 or D[3] + 1 or D[2] + 1 = 4 or 2 or 2 = 2 \\\n",
    "..."
   ]
  },
  {
   "cell_type": "code",
   "execution_count": 78,
   "id": "da25a293",
   "metadata": {},
   "outputs": [],
   "source": [
    "def CalcBU(n):\n",
    "    D = [0] * (n+1)\n",
    "    \n",
    "    for i in range(2, n+1):\n",
    "        \n",
    "        if (i % 2 == 0) and (i % 3 == 0):\n",
    "            D[i] = min(D[i-1] + 1, D[i//2] + 1, D[i//3] + 1)\n",
    "        elif i % 2 == 0:\n",
    "            D[i] = min(D[i-1] + 1, D[i//2] + 1)\n",
    "        elif i % 3 == 0:\n",
    "            D[i] = min(D[i-1] + 1, D[i//3] + 1)\n",
    "        else:\n",
    "            D[i] = D[i-1] + 1\n",
    "                    \n",
    "    k = D[n]\n",
    "    oper = [n]\n",
    "    for _ in range(k):\n",
    "        \n",
    "        if (n % 3 == 0) and (D[n//3] == D[n] - 1):\n",
    "            n //= 3\n",
    "        elif (n % 2 == 0) and (D[n//2] == D[n] - 1):\n",
    "            n //= 2\n",
    "        else:\n",
    "            n -= 1\n",
    "            \n",
    "        oper.append(n)\n",
    "        \n",
    "    return k, oper[::-1]"
   ]
  },
  {
   "cell_type": "code",
   "execution_count": 79,
   "id": "ebcfcd75",
   "metadata": {},
   "outputs": [
    {
     "data": {
      "text/plain": [
       "(14,\n",
       " [1, 3, 9, 10, 11, 22, 66, 198, 594, 1782, 5346, 16038, 16039, 32078, 96234])"
      ]
     },
     "execution_count": 79,
     "metadata": {},
     "output_type": "execute_result"
    }
   ],
   "source": [
    "k, oper = CalcBU(96234)\n",
    "k, oper"
   ]
  },
  {
   "cell_type": "code",
   "execution_count": 80,
   "id": "01ef9bef",
   "metadata": {},
   "outputs": [
    {
     "data": {
      "text/plain": [
       "'1 3 9 10 11 22 66 198 594 1782 5346 16038 16039 32078 96234'"
      ]
     },
     "execution_count": 80,
     "metadata": {},
     "output_type": "execute_result"
    }
   ],
   "source": [
    "' '.join(map(str, oper))"
   ]
  },
  {
   "cell_type": "code",
   "execution_count": null,
   "id": "a9c4fd20",
   "metadata": {},
   "outputs": [],
   "source": []
  },
  {
   "cell_type": "code",
   "execution_count": null,
   "id": "cfe4fcb7",
   "metadata": {},
   "outputs": [],
   "source": []
  }
 ],
 "metadata": {
  "kernelspec": {
   "display_name": "Python 3 (ipykernel)",
   "language": "python",
   "name": "python3"
  },
  "language_info": {
   "codemirror_mode": {
    "name": "ipython",
    "version": 3
   },
   "file_extension": ".py",
   "mimetype": "text/x-python",
   "name": "python",
   "nbconvert_exporter": "python",
   "pygments_lexer": "ipython3",
   "version": "3.11.2"
  }
 },
 "nbformat": 4,
 "nbformat_minor": 5
}
