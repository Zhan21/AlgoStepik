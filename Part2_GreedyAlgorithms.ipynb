{
 "cells": [
  {
   "cell_type": "markdown",
   "id": "e78b3abc",
   "metadata": {},
   "source": [
    "### Задание 1.  Минимальное множество точек, покрытое заданными отрезками.\n",
    "По данным $n$ отрезкам необходимо найти множество точек минимального размера, для которого каждый из отрезков содержит хотя бы одну из точек.\n",
    "\n",
    "В первой строке дано число $1 \\le n \\le 100$ отрезков. Каждая из последующих $n$ строк содержит по два числа $0 \\le l \\le r \\le 10^9$, задающих начало и конец отрезка. Выведите оптимальное число $m$ точек и сами $m$ точек. Если таких множеств точек несколько, выведите любое из них."
   ]
  },
  {
   "cell_type": "code",
   "execution_count": 5,
   "id": "851e7942",
   "metadata": {},
   "outputs": [
    {
     "name": "stdout",
     "output_type": "stream",
     "text": [
      "5\n",
      "1 2\n",
      "2 3\n",
      "3 4\n",
      "4 5\n",
      "5 6\n",
      "3\n",
      "2 4 6\n"
     ]
    }
   ],
   "source": [
    "n = int(input())\n",
    "S = [list(map(int, input().split())) for _ in range(n)]\n",
    "\n",
    "def min_dots(n, S):\n",
    "    S.sort(key=lambda x: x[1])\n",
    "    \n",
    "    best_right_dot = S[0][1]  # всегда берем правый конец в ответ\n",
    "    dots = [best_right_dot]\n",
    "    len_dots = 1\n",
    "\n",
    "    for i in range(n):\n",
    "        if S[i][0] > dots[-1]:  # если левый конец i-го отрезка правее последней точки в dots\n",
    "            best_right_dot = S[i][1]\n",
    "            dots.append(best_right_dot)  # то добавляем правый конец i-го отрезка в ответ\n",
    "            len_dots += 1\n",
    "            \n",
    "    return str(len_dots) + '\\n' + ' '.join(map(str, dots))\n",
    "    \n",
    "print(min_dots(n, S))"
   ]
  },
  {
   "cell_type": "markdown",
   "id": "f7855ddd",
   "metadata": {},
   "source": [
    "### Задание 2. Рюкзак.\n",
    "Первая строка содержит количество предметов $1 \\le n \\le 10^3$ и вместимость рюкзака $0 \\le W \\le 2 \\cdot 10^6$. Каждая из следующих $n$ строк задаёт стоимость $0 \\le c_i \\le 2\\cdot 10^6$ и объём $0 \\lt w_i \\le 2\\cdot 10^6$ предмета ($n,\\, W,\\, c_i,\\, w_i$ — целые числа). Выведите максимальную стоимость частей предметов (от каждого предмета можно отделить любую часть, стоимость и объём при этом пропорционально уменьшатся), помещающихся в данный рюкзак, с точностью не менее трёх знаков после запятой."
   ]
  },
  {
   "cell_type": "code",
   "execution_count": null,
   "id": "cad573f0",
   "metadata": {},
   "outputs": [],
   "source": [
    "n, W = map(int, input().split())\n",
    "items = [list(map(int, input().split())) for _ in range(n)]"
   ]
  },
  {
   "cell_type": "code",
   "execution_count": 2,
   "id": "20758f5b",
   "metadata": {},
   "outputs": [],
   "source": [
    "with open('test.txt', 'r') as f:\n",
    "    n, W = map(int, f.readline().split())\n",
    "    items = [list(map(int, f.readline().split())) for _ in range(n)]"
   ]
  },
  {
   "cell_type": "code",
   "execution_count": 3,
   "id": "42662655",
   "metadata": {},
   "outputs": [
    {
     "name": "stdout",
     "output_type": "stream",
     "text": [
      "7777.731\n"
     ]
    }
   ],
   "source": [
    "def knapsack(n, W, items):\n",
    "    item_utility = [c / w for c, w in items]\n",
    "    sorted_items = [x for _, x in sorted(zip(item_utility, items), reverse=True)]\n",
    "    \n",
    "    cum_weight = 0\n",
    "    profit = 0\n",
    "    \n",
    "    for i in range(n):\n",
    "        cum_weight += sorted_items[i][1]\n",
    "        if cum_weight <= W:\n",
    "            profit += sorted_items[i][0]\n",
    "        else:\n",
    "            break\n",
    "    \n",
    "    # добавляем дробную часть последнего предмета\n",
    "    if cum_weight > W:\n",
    "        cum_weight -= sorted_items[i][1]\n",
    "        profit += (W - cum_weight) * item_utility[i]\n",
    "\n",
    "    return f\"{profit:.3f}\"\n",
    "\n",
    "print(knapsack(n, W, items))"
   ]
  },
  {
   "cell_type": "code",
   "execution_count": 4,
   "id": "06867b86",
   "metadata": {},
   "outputs": [
    {
     "name": "stdout",
     "output_type": "stream",
     "text": [
      "7777.731\n"
     ]
    }
   ],
   "source": [
    "def knapsack_better(n, W, items):\n",
    "    sorted_items = sorted(items, key=lambda x: x[0] / x[1], reverse=True)\n",
    "    profit = 0\n",
    "    \n",
    "    for c, w in sorted_items:\n",
    "        if w <= W:\n",
    "            W -= w\n",
    "            profit += c\n",
    "        else:\n",
    "            profit += W * c / w\n",
    "            break\n",
    "            \n",
    "    return f\"{profit:.3f}\"\n",
    "\n",
    "print(knapsack_better(n, W, items))"
   ]
  },
  {
   "cell_type": "markdown",
   "id": "1d0151e5",
   "metadata": {},
   "source": [
    "### Задание 3. \n",
    "По данному числу $1 \\le n \\le 10^9$ найдите максимальное число $k$, для которого $n$ можно представить как сумму $k$ различных натуральных слагаемых. Выведите в первой строке число $k$, во второй — $k$ слагаемых."
   ]
  },
  {
   "cell_type": "code",
   "execution_count": 19,
   "id": "fbbe33f7",
   "metadata": {},
   "outputs": [
    {
     "name": "stdout",
     "output_type": "stream",
     "text": [
      "10\n",
      "4\n",
      "1 2 3 4\n"
     ]
    }
   ],
   "source": [
    "n = int(input())\n",
    "\n",
    "def sum_uniq(n):\n",
    "    sum_list = []\n",
    "    cumsum = 0\n",
    "    \n",
    "    for i in range(1, n + 1):\n",
    "        cumsum += i\n",
    "        if (i + 1) <= n - cumsum:\n",
    "            sum_list.append(i)\n",
    "        else:\n",
    "            sum_list.append(n - (cumsum - i))\n",
    "            break\n",
    "    return sum_list\n",
    "\n",
    "print(len(sum_uniq(n)))\n",
    "print(*sum_uniq(n))"
   ]
  },
  {
   "cell_type": "markdown",
   "id": "afa188bb",
   "metadata": {},
   "source": [
    "### Задание 4. Алгоритм кодирования Хаффмана.\n",
    "\n",
    "По данной непустой строке $s$ длины не более $10^4$, состоящей из строчных букв латинского алфавита, постройте оптимальный беспрефиксный код. В первой строке выведите количество различных букв $k$, встречающихся в строке, и размер получившейся закодированной строки. В следующих $k$ строках запишите коды букв в формате `letter: code`. В последней строке выведите закодированную строку."
   ]
  },
  {
   "cell_type": "code",
   "execution_count": 12,
   "id": "4443460b",
   "metadata": {},
   "outputs": [
    {
     "data": {
      "text/plain": [
       "[('s', 2), ('d', 2), ('a', 3), ('f', 5)]"
      ]
     },
     "execution_count": 12,
     "metadata": {},
     "output_type": "execute_result"
    }
   ],
   "source": [
    "import heapq\n",
    "\n",
    "freqs = [(freq, ch) for ch, freq in counter(s).items()]\n",
    "\n",
    "heapq.heapify(freqs)"
   ]
  },
  {
   "cell_type": "code",
   "execution_count": 17,
   "id": "0981e2d8",
   "metadata": {},
   "outputs": [
    {
     "data": {
      "text/plain": [
       "dict_items([('a', 3), ('s', 2), ('d', 2), ('f', 5), ('r', 1)])"
      ]
     },
     "execution_count": 17,
     "metadata": {},
     "output_type": "execute_result"
    }
   ],
   "source": [
    "from collections import Counter\n",
    "s = 'asdfrasdfffaf'\n",
    "\n",
    "def counter(s):\n",
    "    dct = {}\n",
    "    for ch in s:\n",
    "        dct[ch] = dct.get(ch, 0) + 1\n",
    "    return dct\n",
    "\n",
    "Counter(s).items()\n",
    "counter(s).items()"
   ]
  },
  {
   "cell_type": "code",
   "execution_count": 161,
   "id": "760fa93c",
   "metadata": {},
   "outputs": [
    {
     "data": {
      "text/plain": [
       "[('a', 7)]"
      ]
     },
     "execution_count": 161,
     "metadata": {},
     "output_type": "execute_result"
    }
   ],
   "source": [
    "s = 'aaaaaaa'\n",
    "freqs = sorted(counter(s).items(), key=lambda x: x[1])\n",
    "freqs"
   ]
  },
  {
   "cell_type": "code",
   "execution_count": 184,
   "id": "e295d0cb",
   "metadata": {
    "scrolled": true
   },
   "outputs": [],
   "source": [
    "s = 'aboba'\n",
    "freqs = sorted(counter(s).items(), key=lambda x: x[1])\n",
    "\n",
    "def shitty_tree(freqs):\n",
    "    tree ={}\n",
    "    while len(freqs) >= 2:\n",
    "        left_ch, left_freq = freqs[0]\n",
    "        right_ch, right_freq = freqs[1]\n",
    "\n",
    "        tree[left_ch] = 0\n",
    "        tree[right_ch] = 1\n",
    "        \n",
    "        freqs = freqs[2:]\n",
    "        freqs.append((left_ch + right_ch, left_freq + right_freq))\n",
    "        freqs.sort(key=lambda x: x[1])\n",
    "    \n",
    "    return tree\n",
    "\n",
    "tree = shitty_tree(freqs)"
   ]
  },
  {
   "cell_type": "code",
   "execution_count": 196,
   "id": "c7633af3",
   "metadata": {},
   "outputs": [
    {
     "data": {
      "text/plain": [
       "[('oa', 1), ('o', 0), ('a', 1), ('b', 0)]"
      ]
     },
     "execution_count": 196,
     "metadata": {},
     "output_type": "execute_result"
    }
   ],
   "source": [
    "sorted(tree.items(), key=lambda x: len(x[0]), reverse=True)"
   ]
  },
  {
   "cell_type": "code",
   "execution_count": 186,
   "id": "b65513ca",
   "metadata": {},
   "outputs": [
    {
     "data": {
      "text/plain": [
       "[('o', 1), ('a', 2), ('b', 2)]"
      ]
     },
     "execution_count": 186,
     "metadata": {},
     "output_type": "execute_result"
    }
   ],
   "source": [
    "freqs"
   ]
  },
  {
   "cell_type": "code",
   "execution_count": 127,
   "id": "38b76a17",
   "metadata": {},
   "outputs": [
    {
     "name": "stdout",
     "output_type": "stream",
     "text": [
      "r 1\n",
      "s 2\n",
      "d 2\n",
      "a 3\n",
      "f 5\n"
     ]
    }
   ],
   "source": [
    "for ch, a in freqs:\n",
    "    print(ch, a)"
   ]
  },
  {
   "cell_type": "code",
   "execution_count": 145,
   "id": "f43fcd62",
   "metadata": {},
   "outputs": [
    {
     "data": {
      "text/plain": [
       "{'c': '110', 'd': '111', 'b': '10', 'a': '0'}"
      ]
     },
     "execution_count": 145,
     "metadata": {},
     "output_type": "execute_result"
    }
   ],
   "source": [
    "from collections import defaultdict\n",
    "\n",
    "tree = shitty_tree(freqs)\n",
    "tree = dict(reversed(tree.items()))\n",
    "code = defaultdict(list)\n",
    "\n",
    "for ch, _ in freqs:\n",
    "    for node, bit in tree.items():\n",
    "        if ch in node:\n",
    "            code[ch].append(bit)\n",
    "    code[ch] = ''.join(map(str, code[ch]))\n",
    "dict(code)"
   ]
  },
  {
   "cell_type": "code",
   "execution_count": 210,
   "id": "4ad4e451",
   "metadata": {},
   "outputs": [
    {
     "name": "stdout",
     "output_type": "stream",
     "text": [
      "abacabad\n",
      "4 14\n",
      "a: 0\n",
      "b: 10\n",
      "c: 110\n",
      "d: 111\n",
      "01001100100111\n"
     ]
    }
   ],
   "source": [
    "from collections import Counter, defaultdict\n",
    "\n",
    "def shitty_tree(freqs):\n",
    "    tree ={}\n",
    "    while len(freqs) >= 2:\n",
    "        left_ch, left_freq = freqs[0]\n",
    "        right_ch, right_freq = freqs[1]\n",
    "\n",
    "        tree[left_ch] = 0\n",
    "        tree[right_ch] = 1\n",
    "        \n",
    "        freqs = freqs[2:]\n",
    "        freqs.append((left_ch + right_ch, left_freq + right_freq))\n",
    "        freqs.sort(key=lambda x: x[1])\n",
    "    \n",
    "    return tree\n",
    "\n",
    "\n",
    "def huffman_encode(s):\n",
    "    freqs = sorted(Counter(s).items(), key=lambda x: x[1])\n",
    "    if len(freqs) == 1:\n",
    "        return {s[0]: '0'}\n",
    "    \n",
    "    tree = shitty_tree(freqs)\n",
    "    tree = sorted(tree.items(), key=lambda x: len(x[0]), reverse=True)\n",
    "    code = defaultdict(list)\n",
    "    \n",
    "    for ch, _ in freqs:\n",
    "        for node, bit in tree:\n",
    "            if ch in node:\n",
    "                code[ch].append(bit)\n",
    "        code[ch] = ''.join(map(str, code[ch]))\n",
    "    \n",
    "    return dict(code)\n",
    "\n",
    "\n",
    "def main():\n",
    "    s = input()\n",
    "    code_dict = huffman_encode(s)\n",
    "    encoded_s = ''.join(code_dict[ch] for ch in s)\n",
    "    print(len(code_dict), len(encoded_s))\n",
    "    \n",
    "    for ch in sorted(code_dict):\n",
    "        print(\"{}: {}\".format(ch, code_dict[ch]))\n",
    "    print(encoded_s)\n",
    "    \n",
    "main()"
   ]
  },
  {
   "cell_type": "markdown",
   "id": "a5bf1278",
   "metadata": {},
   "source": [
    "### Задание 5. Декодирование Хаффмана.\n",
    "\n",
    "Восстановите строку по её коду и беспрефиксному коду символов. \n",
    "\n",
    "В первой строке входного файла заданы два целых числа $k$ и $l$ через пробел — количество различных букв, встречающихся в строке, и размер получившейся закодированной строки, соответственно. В следующих $k$ строках записаны коды букв в формате `letter: code`. Ни один код не является префиксом другого. Буквы могут быть перечислены в любом порядке. В качестве букв могут встречаться лишь строчные буквы латинского алфавита; каждая из этих букв встречается в строке хотя бы один раз. Наконец, в последней строке записана закодированная строка. Исходная строка и коды всех букв непусты. Заданный код таков, что закодированная строка имеет минимальный возможный размер.\n",
    "\n",
    "В первой строке выходного файла выведите строку $s$. Она должна состоять из строчных букв латинского алфавита. Гарантируется, что длина правильного ответа не превосходит $10^4$ символов."
   ]
  },
  {
   "cell_type": "code",
   "execution_count": null,
   "id": "3209c1f1",
   "metadata": {},
   "outputs": [],
   "source": [
    "k, l = map(int, input().split())\n",
    "dct = {}\n",
    "for _ in range(k):\n",
    "    letter, code = input().split(\": \")\n",
    "    dct[code] = letter\n",
    "encoded_s = input()\n",
    "\n",
    "def huffman_decode(dct, encoded_s):\n",
    "    string = ''\n",
    "    code = ''\n",
    "    for bit in encoded_s:\n",
    "        code += bit\n",
    "        if code in dct.keys():\n",
    "            string += dct[code]\n",
    "            code = ''\n",
    "    return string\n",
    "\n",
    "print(huffman_decode(dct, encoded_s))"
   ]
  },
  {
   "cell_type": "code",
   "execution_count": 216,
   "id": "42daaae9",
   "metadata": {},
   "outputs": [
    {
     "data": {
      "text/plain": [
       "'abacabad'"
      ]
     },
     "execution_count": 216,
     "metadata": {},
     "output_type": "execute_result"
    }
   ],
   "source": [
    "string = ''\n",
    "code = ''\n",
    "for bit in encoded_s:\n",
    "    code += bit\n",
    "    if code in dct.keys():\n",
    "        string += dct[code]\n",
    "        code = ''\n",
    "    \n",
    "string"
   ]
  }
 ],
 "metadata": {
  "kernelspec": {
   "display_name": "Python 3 (ipykernel)",
   "language": "python",
   "name": "python3"
  },
  "language_info": {
   "codemirror_mode": {
    "name": "ipython",
    "version": 3
   },
   "file_extension": ".py",
   "mimetype": "text/x-python",
   "name": "python",
   "nbconvert_exporter": "python",
   "pygments_lexer": "ipython3",
   "version": "3.11.2"
  }
 },
 "nbformat": 4,
 "nbformat_minor": 5
}
