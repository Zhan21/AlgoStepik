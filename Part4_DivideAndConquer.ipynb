{
 "cells": [
  {
   "cell_type": "markdown",
   "id": "805c7b5f",
   "metadata": {},
   "source": [
    "* Поиск в неупорядоченном массиве: `LinSearch`, \n",
    "* Поиск в упорядоченном массиве: `BinSearch`."
   ]
  },
  {
   "cell_type": "code",
   "execution_count": null,
   "id": "701152f4",
   "metadata": {},
   "outputs": [],
   "source": [
    "def LinearSearch(a, k):\n",
    "    for i in range(len(a)):\n",
    "        if a[i] == k:\n",
    "            return i\n",
    "    return -1"
   ]
  },
  {
   "cell_type": "code",
   "execution_count": 14,
   "id": "3fff9a9a",
   "metadata": {},
   "outputs": [],
   "source": [
    "def BinarySearch2(a, k):\n",
    "    m = (len(a) - 1) // 2\n",
    "    if a[m] == k:\n",
    "        return m\n",
    "    elif a[m] > k:\n",
    "        BinarySearch(a[:m], k)\n",
    "    else:\n",
    "        BinarySearch(a[m:], k)\n",
    "    return -1"
   ]
  },
  {
   "cell_type": "code",
   "execution_count": 42,
   "id": "7d29e302",
   "metadata": {},
   "outputs": [],
   "source": [
    "def BinarySearch(a, k):\n",
    "    l, r = 0, len(a) - 1\n",
    "    while l <= r:\n",
    "        m = (l + r) // 2\n",
    "        if a[m] == k:\n",
    "            return m\n",
    "        elif a[m] > k:\n",
    "            r = m - 1\n",
    "        else:\n",
    "            l = m + 1\n",
    "    return -1"
   ]
  },
  {
   "cell_type": "code",
   "execution_count": 15,
   "id": "a05463cb",
   "metadata": {},
   "outputs": [
    {
     "data": {
      "text/plain": [
       "5"
      ]
     },
     "execution_count": 15,
     "metadata": {},
     "output_type": "execute_result"
    }
   ],
   "source": [
    "import numpy as np\n",
    "\n",
    "a = np.arange(10)\n",
    "BinarySearch2(a, 5)"
   ]
  },
  {
   "cell_type": "markdown",
   "id": "2f05eb18",
   "metadata": {},
   "source": [
    "### Задание 1. Найти индексы вхождений элементов второй строки в первой строке.\n",
    "В первой строке даны целое число $1 \\le n \\le 10^5$ и массив $A[1 \\ldots n]$ из $n$ различных натуральных чисел, не превышающих $10^9$, в порядке возрастания, во второй — целое число $1 \\le k \\le 10^5$ и $k$ натуральных чисел $b_1, \\ldots, b_k$, не превышающих $10^9$. Для каждого $i$ от $1$ до $k$ необходимо вывести индекс $1 \\le j \\le n$, для которого $A[j]=b_i$, или $−1$, если такого $j$ нет."
   ]
  },
  {
   "cell_type": "code",
   "execution_count": 40,
   "id": "92603df3",
   "metadata": {},
   "outputs": [
    {
     "name": "stdout",
     "output_type": "stream",
     "text": [
      "5 1 5 8 12 13\n",
      "5 8 1 23 1 11\n",
      "Search 8\n",
      "0 4 2\n",
      "Search 1\n",
      "0 4 2\n",
      "0 1 0\n",
      "Search 23\n",
      "0 4 2\n",
      "3 4 3\n",
      "4 4 4\n",
      "Search 1\n",
      "0 4 2\n",
      "0 1 0\n",
      "Search 11\n",
      "0 4 2\n",
      "3 4 3\n",
      "Answer\n",
      "3 1 -1 1 -1\n"
     ]
    }
   ],
   "source": [
    "def main():\n",
    "    n, *a = map(int, input().split())\n",
    "    k, *b = map(int, input().split())\n",
    "    ans = []\n",
    "    for i in range(k):\n",
    "        print('Search {}'.format(b[i]))\n",
    "        ans.append(BinarySearch(a, b[i]))\n",
    "    print('Answer')\n",
    "    print(*ans)\n",
    "\n",
    "main()"
   ]
  },
  {
   "cell_type": "markdown",
   "id": "574e7f29",
   "metadata": {},
   "source": [
    "### Задание 2. Число инверсий массива.\n",
    "Первая строка содержит число 1≤n≤105 1 \\le n \\le 10^5 1≤n≤105, вторая — массив A[1…n] A[1\\ldots n] A[1…n], содержащий натуральные числа, не превосходящие 109 10^9 109. Необходимо посчитать число пар индексов 1≤i<j≤n 1 \\le i \\lt j \\le n 1≤i<j≤n, для которых A[i]>A[j] A[i] \\gt A[j] A[i]>A[j]. (Такая пара элементов называется инверсией массива. Количество инверсий в массиве является в некотором смысле его мерой неупорядоченности: например, в упорядоченном по неубыванию массиве инверсий нет вообще, а в массиве, упорядоченном по убыванию, инверсию образуют каждые два элемента.)"
   ]
  },
  {
   "cell_type": "markdown",
   "id": "d40e54a1",
   "metadata": {},
   "source": [
    "**Подсчет при рекурсивном вызове можно реализовать через глобальную переменную.**"
   ]
  },
  {
   "cell_type": "code",
   "execution_count": 99,
   "id": "03fa898c",
   "metadata": {},
   "outputs": [],
   "source": [
    "def mergeInvCount(a, b):\n",
    "    global cnt  # счетчик\n",
    "    i, j = 0, 0\n",
    "    merged = []\n",
    "    \n",
    "    while i < len(a) and j < len(b):\n",
    "        if a[i] > b[j]:\n",
    "            merged.append(b[j])\n",
    "            j += 1\n",
    "            cnt += (len(a) - i) # отличие от merge\n",
    "        else:\n",
    "            merged.append(a[i])\n",
    "            i += 1\n",
    "            \n",
    "    merged += b[j:]\n",
    "    merged += a[i:]\n",
    "    \n",
    "    return merged\n",
    "\n",
    "def invCount(a):\n",
    "    if len(a) > 1:\n",
    "        m = len(a) // 2\n",
    "        return mergeInvCount(invCount(a[:m]), invCount(a[m:]))\n",
    "    return a"
   ]
  },
  {
   "cell_type": "code",
   "execution_count": 104,
   "id": "7281d8f0",
   "metadata": {},
   "outputs": [
    {
     "name": "stdout",
     "output_type": "stream",
     "text": [
      "8\n",
      "8 7 6 5 4 3 2 1\n",
      "28\n"
     ]
    }
   ],
   "source": [
    "def main():\n",
    "    n = int(input())\n",
    "    a = list(map(int, input().split()))\n",
    "    invCount(a)\n",
    "    print(cnt)\n",
    "\n",
    "cnt = 0\n",
    "main()"
   ]
  },
  {
   "cell_type": "code",
   "execution_count": 106,
   "id": "da2ea6a7",
   "metadata": {},
   "outputs": [
    {
     "data": {
      "text/plain": [
       "28.0"
      ]
     },
     "execution_count": 106,
     "metadata": {},
     "output_type": "execute_result"
    }
   ],
   "source": [
    "# количество инверсий при обратно упорядоченном массиве равно:\n",
    "1 + 2 + 3 + 4 + 5 + 6 + 7\n",
    "7 * (7 + 1) / 2"
   ]
  },
  {
   "cell_type": "code",
   "execution_count": null,
   "id": "7a4eef92",
   "metadata": {},
   "outputs": [],
   "source": [
    "[8, 7, 6, 5, 4, 3, 2, 1]     # 4 по 1 инверсий = 4\n",
    "[7, 8] [5, 6] [3, 4] [1, 2]  # 2 по 4 инверсий = 8\n",
    "[[5, 6, 7, 8] [1, 2, 3, 4]]  # 4 по 4 инверсий = 16\n",
    "[[1, 2, 3, 4, 5, 6, 7, 8]]   # 4 + 8 + 16 = 28 инверсий"
   ]
  },
  {
   "cell_type": "markdown",
   "id": "2a498b94",
   "metadata": {},
   "source": [
    "### Задание 3. Скольким отрезкам принадлежит точка.\n",
    "\n",
    "В первой строке задано два целых числа $1 \\le n \\le 5000$ и $1 \\le m \\le 50000$ — количество отрезков и точек на прямой, соответственно. Следующие $n$ строк содержат по два целых числа $a_i$ и $b_i$ ($a_i \\le b_i$) — координаты концов отрезков. Последняя строка содержит $m$ целых чисел — координаты точек. Все координаты не превышают $10^8$ по модулю. Точка считается принадлежащей отрезку, если она находится внутри него или на границе. Для каждой точки в порядке появления во вводе выведите, скольким отрезкам она принадлежит.\n",
    "\n",
    "**Идея:** Если левее точки лежит $x$ начал отрезков и $y$ концов, то ее пересекает $x - y$ отрезков. Тогда точку не пересекают отрезки, если слева от точки начались $x$ отрезков и там же они закончись ($x$ концов)."
   ]
  },
  {
   "cell_type": "markdown",
   "id": "a8403829",
   "metadata": {},
   "source": [
    "**1. Долгое решение за $O(n m)$**"
   ]
  },
  {
   "cell_type": "code",
   "execution_count": 19,
   "id": "68d854d0",
   "metadata": {},
   "outputs": [
    {
     "name": "stdout",
     "output_type": "stream",
     "text": [
      "2 456\n",
      "0 7\n",
      "5 10\n",
      "0 3 5 6 7 8 10 11\n",
      "[1, 1, 2, 2, 2, 1, 1, 0]\n"
     ]
    }
   ],
   "source": [
    "def howMuchSegments(leftEnds, rightEnds, points):\n",
    "    ans = []\n",
    "    for point in points:  # O(2n * m)\n",
    "        x, y = 0, 0\n",
    "        for i in range(len(leftEnds)):  # O(n)\n",
    "            if leftEnds[i] <= point:\n",
    "                x += 1\n",
    "        for i in range(len(rightEnds)): # O(n)\n",
    "            if rightEnds[i] < point:\n",
    "                y += 1\n",
    "        ans.append(x - y)\n",
    "    return ans\n",
    "\n",
    "\n",
    "n, m = map(int, input().split())\n",
    "leftEnds, rightEnds = [], []\n",
    "\n",
    "for _ in range(n):\n",
    "    l, r = map(int, input().split())\n",
    "    leftEnds.append(l)\n",
    "    rightEnds.append(r)\n",
    "\n",
    "points = list(map(int, input().split()))\n",
    "print(*howMuchSegments(leftEnds, rightEnds, points))"
   ]
  },
  {
   "cell_type": "markdown",
   "id": "2924e9a1",
   "metadata": {},
   "source": [
    "**2. Быстрое решение за $O(2n\\, log(n)) + O(2m\\, log(n)) = O(n\\, log(n))$**\n",
    "\n",
    "Сначала адаптируем алгоритм двоичного поиска для подсчета количества точек в массиве $a$ меньше заданного ключа $k$. `includeEnds` отвечает за включение элемента $a[i] \\le k$."
   ]
  },
  {
   "cell_type": "code",
   "execution_count": 30,
   "id": "24a190cb",
   "metadata": {},
   "outputs": [
    {
     "name": "stdout",
     "output_type": "stream",
     "text": [
      "5\n",
      "3\n"
     ]
    }
   ],
   "source": [
    "def lessThanKey(a, k, includeEnds=True):  # O(logn)\n",
    "    l, r = 0, len(a) - 1\n",
    "    ans = 0\n",
    "    while l <= r:\n",
    "        m = (l + r) // 2\n",
    "        if includeEnds:\n",
    "            if a[m] <= k:\n",
    "                ans += m - l + 1\n",
    "                l = m + 1\n",
    "            else:\n",
    "                r = m - 1\n",
    "                \n",
    "        else:\n",
    "            if a[m] < k:\n",
    "                ans += m - l + 1\n",
    "                l = m + 1\n",
    "            else:\n",
    "                r = m - 1\n",
    "    return ans\n",
    "\n",
    "a = [0, 1, 4, 5, 5, 6, 7, 10]\n",
    "print(lessThanKey(a, 5, includeEnds=True))\n",
    "print(lessThanKey(a, 5, includeEnds=False))"
   ]
  },
  {
   "cell_type": "code",
   "execution_count": 32,
   "id": "1d065213",
   "metadata": {},
   "outputs": [],
   "source": [
    "# Стандартная быстрая сортировка\n",
    "def partition(arr, p, r):\n",
    "    x = arr[r]\n",
    "    i = p\n",
    "    for j in range(p, r):\n",
    "        if arr[j] <= x:\n",
    "            arr[i], arr[j] = arr[j], arr[i]\n",
    "            i += 1\n",
    "    arr[r], arr[i] = arr[i], arr[r]\n",
    "    return i\n",
    "\n",
    "def quickSort(arr, p, r):\n",
    "    if p < r:\n",
    "        q = partition(arr, p, r)\n",
    "        quickSort(arr, p, q - 1)\n",
    "        quickSort(arr, q + 1, r)"
   ]
  },
  {
   "cell_type": "code",
   "execution_count": 33,
   "id": "77dc91f0",
   "metadata": {},
   "outputs": [
    {
     "name": "stdout",
     "output_type": "stream",
     "text": [
      "3 6\n",
      "0 5\n",
      "4 8\n",
      "10 15\n",
      "0 3 4 5 8 9 12\n",
      "1 1 2 2 1 0 1\n"
     ]
    }
   ],
   "source": [
    "def howMuchSegments(leftEnds, rightEnds, points):\n",
    "    ans = []\n",
    "    quickSort(leftEnds, 0, len(leftEnds) - 1)    # O(nlogn)\n",
    "    quickSort(rightEnds, 0, len(rightEnds) - 1)  # O(nlogn)\n",
    "    \n",
    "    for point in points:  # O(m * 2logn)\n",
    "        x = lessThanKey(leftEnds, point, includeEnds=True)    # O(logn)\n",
    "        y = lessThanKey(rightEnds, point, includeEnds=False)  # O(logn)\n",
    "        ans.append(x - y)\n",
    "    return ans\n",
    "\n",
    "\n",
    "n, m = map(int, input().split())\n",
    "leftEnds, rightEnds = [], []\n",
    "\n",
    "for _ in range(n):\n",
    "    l, r = map(int, input().split())\n",
    "    leftEnds.append(l)\n",
    "    rightEnds.append(r)\n",
    "\n",
    "points = list(map(int, input().split()))\n",
    "print(*howMuchSegments(leftEnds, rightEnds, points))\n"
   ]
  },
  {
   "cell_type": "markdown",
   "id": "22428acd",
   "metadata": {},
   "source": [
    "### Задание 4. Сортировка подсчётом.\n",
    "\n",
    "Первая строка содержит число $1 \\le n \\le 10^4$, вторая — $n$ натуральных чисел, не превышающих $10$. Выведите упорядоченную по неубыванию последовательность этих чисел."
   ]
  },
  {
   "cell_type": "code",
   "execution_count": 1,
   "id": "bace93e0",
   "metadata": {},
   "outputs": [],
   "source": [
    "def count_sort(arr, m):\n",
    "    brr = [0] * m\n",
    "    s_arr = [0] * len(arr)\n",
    "    for j in range(len(arr)):\n",
    "        a = arr[j]  # уникальный элемент в arr/ индекс в массиве brr\n",
    "        brr[a] += 1\n",
    "    for a in range(1, m):\n",
    "        brr[a] = brr[a] + brr[a - 1]\n",
    "    for j in range(len(arr) - 1, -1, -1):\n",
    "        a = arr[j]\n",
    "        s_arr[brr[a] - 1] = a\n",
    "        brr[a] -= 1\n",
    "        \n",
    "    return s_arr"
   ]
  },
  {
   "cell_type": "code",
   "execution_count": 4,
   "id": "b942b902",
   "metadata": {},
   "outputs": [
    {
     "name": "stdout",
     "output_type": "stream",
     "text": [
      "5\n",
      "2 3 9 2 9\n",
      "2 2 3 9 9\n"
     ]
    }
   ],
   "source": [
    "def main():\n",
    "    n = int(input())\n",
    "    arr = list(map(int, input().split()))\n",
    "    print(*count_sort(arr, 11))\n",
    "\n",
    "main()"
   ]
  },
  {
   "cell_type": "code",
   "execution_count": null,
   "id": "5bdcc68b",
   "metadata": {},
   "outputs": [],
   "source": []
  },
  {
   "cell_type": "code",
   "execution_count": null,
   "id": "bbe56386",
   "metadata": {},
   "outputs": [],
   "source": []
  }
 ],
 "metadata": {
  "kernelspec": {
   "display_name": "Python 3 (ipykernel)",
   "language": "python",
   "name": "python3"
  },
  "language_info": {
   "codemirror_mode": {
    "name": "ipython",
    "version": 3
   },
   "file_extension": ".py",
   "mimetype": "text/x-python",
   "name": "python",
   "nbconvert_exporter": "python",
   "pygments_lexer": "ipython3",
   "version": "3.11.2"
  }
 },
 "nbformat": 4,
 "nbformat_minor": 5
}
