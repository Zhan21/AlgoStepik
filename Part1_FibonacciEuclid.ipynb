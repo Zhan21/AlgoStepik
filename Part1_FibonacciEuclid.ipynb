{
 "cells": [
  {
   "cell_type": "markdown",
   "id": "a4b672fa",
   "metadata": {},
   "source": [
    "**Задание 1.** Числа Фибоначчи. \\\n",
    "Дано целое число $1≤n≤40 1 \\le n \\le 40 1≤n≤40$, необходимо вычислить $n$-е число Фибоначчи (напомним, что $F_0=0,\\; F_1=1$ и $F_n=F_{n-1}+F_{n-2}$ при $n \\ge 2$)."
   ]
  },
  {
   "cell_type": "code",
   "execution_count": null,
   "id": "b10a21c5",
   "metadata": {},
   "outputs": [],
   "source": [
    "def fib(n):\n",
    "    if n <= 1:\n",
    "        return 1\n",
    "    f_n_1, f_n_2 = 1, 0\n",
    "    for _ in range(n-1):\n",
    "        f_n = f_n_1 + f_n_2\n",
    "        f_n_1, f_n_2 = f_n, f_n_1\n",
    "    return f_n\n",
    "\n",
    "\n",
    "def main():\n",
    "    n = int(input())\n",
    "    print(fib(n))\n",
    "\n",
    "    \n",
    "if __name__ == \"__main__\":\n",
    "    main()"
   ]
  },
  {
   "cell_type": "markdown",
   "id": "51b8a000",
   "metadata": {},
   "source": [
    "**Задание 2.** Последняя цифра числа Фибоначчи. \\\n",
    "Дано число $1 \\le n \\le 10^7$, необходимо найти последнюю цифру $n$-го числа Фибоначчи.\n",
    "\n",
    "Как мы помним, числа Фибоначчи растут очень быстро, поэтому при их вычислении нужно быть аккуратным с переполнением. В данной задаче, впрочем, этой проблемы можно избежать, поскольку нас интересует только последняя цифра числа Фибоначчи: если $0 \\le a,b \\le 9$ — последние цифры чисел $F_i$ и $F_{i+1}$ соответственно, то $(a+b) \\bmod{10}$ — последняя цифра числа $F_{i+2}$."
   ]
  },
  {
   "cell_type": "code",
   "execution_count": null,
   "id": "051e7d70",
   "metadata": {},
   "outputs": [],
   "source": [
    "def fib_digit(n):\n",
    "    if n <= 1:\n",
    "        return 1\n",
    "    a, b = 0, 1\n",
    "    for _ in range(n - 1):\n",
    "        a, b = b, (a + b) % 10\n",
    "    return b\n",
    "\n",
    "\n",
    "n = int(input())\n",
    "print(fib_digit(n))"
   ]
  },
  {
   "cell_type": "markdown",
   "id": "851dfb98",
   "metadata": {},
   "source": [
    "**Задание 3.** Остаток от деления числа Фибоначчи. \\\n",
    "Даны целые числа $1 \\le n \\le 10^{18}$ и $2 \\le m \\le 10^5$, необходимо найти остаток от деления $n$-го числа Фибоначчи на $m$."
   ]
  },
  {
   "cell_type": "code",
   "execution_count": null,
   "id": "bd0abd76",
   "metadata": {},
   "outputs": [],
   "source": [
    "def fib_mod(n, m):\n",
    "    if n <= 2:\n",
    "        return 1\n",
    "    \n",
    "    mod_list = [0, 1]\n",
    "    f_0, f_1 = 0, 1\n",
    "    \n",
    "    while (mod_list[:2] != mod_list[-2:]) or (len(mod_list) == 2):\n",
    "        f_0, f_1 = f_1 % m, ((f_1 % m) + (f_0 % m)) % m\n",
    "        mod_list.append(f_i % m)\n",
    "        \n",
    "    mod_list = mod_list[:-2]\n",
    "    pizano_period = len(mod_list)\n",
    "    # print(mod_list)\n",
    "    # print(pizano_period)\n",
    "    f_mod_m = mod_list[n % pizano_period]\n",
    "    return f_mod_m\n",
    "\n",
    "n, m = map(int, input().split())\n",
    "print(fib_mod(n, m))"
   ]
  },
  {
   "cell_type": "markdown",
   "id": "b0097c5f",
   "metadata": {},
   "source": [
    "**Задание 4.** Алгоритм Евклида. \\\n",
    "По данным двум числам $1 \\le a, b \\le 2 \\cdot 10^9$ найдите их наибольший общий делитель."
   ]
  },
  {
   "cell_type": "code",
   "execution_count": null,
   "id": "421b8716",
   "metadata": {},
   "outputs": [],
   "source": [
    "def gcd(a, b):\n",
    "    if a == 0:\n",
    "        return b\n",
    "    if b == 0:\n",
    "        return a\n",
    "    if a >= b:\n",
    "        return gcd(a % b, b)\n",
    "    if a < b:\n",
    "        return gcd(a, b % a)\n",
    "\n",
    "\n",
    "a, b = map(int, input().split())\n",
    "print(gcd(a, b))"
   ]
  }
 ],
 "metadata": {
  "kernelspec": {
   "display_name": "Python 3 (ipykernel)",
   "language": "python",
   "name": "python3"
  },
  "language_info": {
   "codemirror_mode": {
    "name": "ipython",
    "version": 3
   },
   "file_extension": ".py",
   "mimetype": "text/x-python",
   "name": "python",
   "nbconvert_exporter": "python",
   "pygments_lexer": "ipython3",
   "version": "3.11.2"
  }
 },
 "nbformat": 4,
 "nbformat_minor": 5
}
