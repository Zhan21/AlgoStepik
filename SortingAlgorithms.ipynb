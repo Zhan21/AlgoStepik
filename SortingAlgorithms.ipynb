{
 "cells": [
  {
   "cell_type": "markdown",
   "id": "60f037cb",
   "metadata": {},
   "source": [
    "### Insertion Sort\n",
    "\n",
    "Есть отсортированная часть (считаем, что один элемент отсортирован), а есть неотсортированная. Берем последующий элемент $key$ в неотсортированной части и сравниваем его с элементами из отсортированной части. Сдвигаем их вправо и вставляем $key$ на освободившееся место.\n",
    "\n",
    "* $O(n^2)$ - avg and worst time\n",
    "* $O(1)$ - memory\n",
    "* **Stable**, так как мы не меняем элементы местами, а сплошняком слева направо собираем отсортированный массив. При вставке нового элемента на свое место он встает правее элементов с теми же ключами (не заходим в цикл while при равенстве ключей)."
   ]
  },
  {
   "cell_type": "code",
   "execution_count": 14,
   "id": "530f7bfb",
   "metadata": {},
   "outputs": [],
   "source": [
    "def insertion_sort(arr):\n",
    "    for j in range(1, len(arr)):\n",
    "        key = arr[j]\n",
    "        # Вставляем arr[j] в отсортированную часть arr[0, ..., j - 1]\n",
    "        i = j - 1\n",
    "        while i >= 0 and arr[i] > key:\n",
    "            arr[i + 1] = arr[i]\n",
    "            i -= 1\n",
    "        arr[i + 1] = key\n",
    "        \n",
    "    return arr"
   ]
  },
  {
   "cell_type": "code",
   "execution_count": 15,
   "id": "b982d8f3",
   "metadata": {},
   "outputs": [
    {
     "data": {
      "text/plain": [
       "[-3, 0, 2, 5, 7, 7, 8, 8, 9]"
      ]
     },
     "execution_count": 15,
     "metadata": {},
     "output_type": "execute_result"
    }
   ],
   "source": [
    "arr = [9, 7, 8, 8, 5, 7, 2, 0, -3]\n",
    "insertion_sort(arr)"
   ]
  },
  {
   "cell_type": "markdown",
   "id": "63f08d4d",
   "metadata": {},
   "source": [
    "### Selection Sort\n",
    "\n",
    "Для каждого элемента $i$ массива находим минимальный элемент $min\\_idx$ справа от него и меняем их местами, тем самым ставя на место минимальный элемент. Грубо говоря мы каждый раз заново находим минимум в неотсортированной части массива.\n",
    "\n",
    "* $O(n^2)$ - avg and worst time\n",
    "* $O(1)$ - memory\n",
    "* **Unstable**, так как при поиске минимального элемента мы берём указатель *последнего* (так как проходимся до конца массива) и ставим его перед остальными минимальными элементами. "
   ]
  },
  {
   "cell_type": "code",
   "execution_count": 5,
   "id": "169603ae",
   "metadata": {},
   "outputs": [],
   "source": [
    "def selection_sort(arr):\n",
    "    for i in range(len(arr)):\n",
    "        min_idx = i\n",
    "        for j in range(i + 1, len(arr)):\n",
    "            if arr[j] < arr[min_idx]:\n",
    "                min_idx = j\n",
    "        arr[i], arr[min_idx] = arr[min_idx], arr[i]\n",
    "        \n",
    "    return arr"
   ]
  },
  {
   "cell_type": "code",
   "execution_count": 6,
   "id": "a2249e3f",
   "metadata": {},
   "outputs": [
    {
     "data": {
      "text/plain": [
       "[0, 1, 2, 4, 5, 7, 8, 8, 9]"
      ]
     },
     "execution_count": 6,
     "metadata": {},
     "output_type": "execute_result"
    }
   ],
   "source": [
    "arr = [9, 7, 8, 8, 5, 4, 2, 0, 1]\n",
    "selection_sort(arr)"
   ]
  },
  {
   "cell_type": "markdown",
   "id": "2a71f780",
   "metadata": {},
   "source": [
    "### Merge Sort\n",
    "\n",
    "* $O(n\\, log(n))$ - avg and worst time\n",
    "* $O(n)$ - memory\n",
    "* **Stable**, так как при рекурсивный вызов MergeSort не меняет местами элементы с одинаковым значением. Процедура Merge для элементов с одинаковым значением сначала берет элемент из левого поддерева (для ascending сортировки), поэтому порядок также не нарушается."
   ]
  },
  {
   "cell_type": "code",
   "execution_count": 112,
   "id": "b9ff995e",
   "metadata": {},
   "outputs": [],
   "source": [
    "def merge(a, b):\n",
    "    i, j = 0, 0\n",
    "    merged = []\n",
    "    \n",
    "    while i < len(a) and j < len(b):\n",
    "        if a[i] <= b[j]:\n",
    "            merged.append(a[i])\n",
    "            i += 1\n",
    "        else:\n",
    "            merged.append(b[j])\n",
    "            j += 1\n",
    "            \n",
    "    merged += b[j:]\n",
    "    merged += a[i:]\n",
    "    \n",
    "    return merged\n",
    "\n",
    "\n",
    "def mergeSort(a):\n",
    "    if len(a) > 1:\n",
    "        m = len(a) // 2\n",
    "        return merge(mergeSort(a[:m]), \n",
    "                     mergeSort(a[m:]))\n",
    "    return a"
   ]
  },
  {
   "cell_type": "code",
   "execution_count": 58,
   "id": "69d2ed70",
   "metadata": {},
   "outputs": [
    {
     "data": {
      "text/plain": [
       "[2, 3, 4, 7, 9, 12, 13, 14, 24]"
      ]
     },
     "execution_count": 58,
     "metadata": {},
     "output_type": "execute_result"
    }
   ],
   "source": [
    "a = [2, 3, 13]\n",
    "b = [4, 7, 9, 12, 14, 24]\n",
    "merge(a, b)"
   ]
  },
  {
   "cell_type": "code",
   "execution_count": 113,
   "id": "3b6ba57f",
   "metadata": {},
   "outputs": [
    {
     "data": {
      "text/plain": [
       "[0, 1, 2, 5, 7, 8, 8, 10, 24]"
      ]
     },
     "execution_count": 113,
     "metadata": {},
     "output_type": "execute_result"
    }
   ],
   "source": [
    "a = [8, 7, 1, 10, 24, 2, 5, 8, 0]\n",
    "mergeSort(a)"
   ]
  },
  {
   "cell_type": "code",
   "execution_count": 1,
   "id": "a2fa7eed",
   "metadata": {},
   "outputs": [],
   "source": [
    "def bad_merge(arr, l, m, r):\n",
    "    L, R = arr[l:m], a[m:r]\n",
    "    k, i, j = 0, 0, 0\n",
    "    \n",
    "    while i < len(L) and j < len(R):\n",
    "        if L[i] <= R[j]:\n",
    "            arr[k] = L[i]\n",
    "            i += 1\n",
    "        else:\n",
    "            arr[k] = R[j]\n",
    "            j += 1\n",
    "        k += 1\n",
    "    \n",
    "    arr += R[j:]\n",
    "    arr += L[i:]"
   ]
  },
  {
   "cell_type": "code",
   "execution_count": 56,
   "id": "4891887b",
   "metadata": {},
   "outputs": [],
   "source": [
    "def bad_mergeSort(a, l, r):\n",
    "    if l < r:\n",
    "        m = (l + r) // 2\n",
    "        return merge(mergeSort(a, l, m), \n",
    "                     mergeSort(a, m + 1, r))\n",
    "    return [a[l]]"
   ]
  },
  {
   "cell_type": "code",
   "execution_count": 65,
   "id": "8a045cce",
   "metadata": {},
   "outputs": [
    {
     "name": "stdout",
     "output_type": "stream",
     "text": [
      "[[1, 2], [4], [3], [7], [5], [6]]\n",
      "[[1, 2, 3], [4], [6], [7], [5]]\n",
      "[[1, 2, 3, 4], [5], [6], [7]]\n",
      "[[1, 2, 3, 4, 5], [7], [6]]\n",
      "[[1, 2, 3, 4, 5, 6], [7]]\n",
      "[[1, 2, 3, 4, 5, 6, 7]]\n"
     ]
    },
    {
     "data": {
      "text/plain": [
       "[1, 2, 3, 4, 5, 6, 7]"
      ]
     },
     "execution_count": 65,
     "metadata": {},
     "output_type": "execute_result"
    }
   ],
   "source": [
    "import heapq\n",
    "\n",
    "def bad_iterativeMergeSort(a):\n",
    "    queue = []\n",
    "    for i in range(len(a)):\n",
    "        heapq.heappush(queue, [a[i]])\n",
    "\n",
    "    while len(queue) > 1:\n",
    "        merged = merge(heapq.heappop(queue), heapq.heappop(queue))\n",
    "        heapq.heappush(queue, merged)\n",
    "        print(queue)\n",
    "    return heapq.heappop(queue)\n",
    "\n",
    "a = [7, 6, 5, 4, 3, 2, 1]\n",
    "bad_iterativeMergeSort(a)"
   ]
  },
  {
   "cell_type": "markdown",
   "id": "61419d96",
   "metadata": {},
   "source": [
    "### Heap Sort\n",
    "\n",
    "Использует структуру max кучи для сортировки. Строим кучу из массива и ставим ее корень в конец массива, как максимальный элемент. Так как в корне теперь новый элемент поддерживаем свойство max кучи в неотсортированной части и итеративно строим отсортированный массив с конца. \n",
    "\n",
    "* $O(n\\, log(n))$ - avg and worst time\n",
    "* $O(1)$ - memory (inplace realization)\n",
    "* **Unstable**, так как корневой элемент в куче, стоящий на первом месте встает в конец массива. Допустим, если следующий элемент после корневого имеет тот же ключ, то он встанет в отсортированном массиве перед корневым."
   ]
  },
  {
   "cell_type": "code",
   "execution_count": 109,
   "id": "8f67c5ea",
   "metadata": {},
   "outputs": [],
   "source": [
    "def max_sift_down(a, i, h_size):  # O(log(n))\n",
    "    while 2 * i + 1 <= h_size - 1:  # пока левый ребенок лежит в куче\n",
    "        l = 2 * i + 1\n",
    "        r = 2 * i + 2\n",
    "        largest = l\n",
    "        if r <= h_size - 1 and a[r] > a[l]:  # если есть правый ребенок в куче\n",
    "            largest = r\n",
    "        if a[i] >= a[largest]:\n",
    "            break\n",
    "        a[largest], a[i] = a[i], a[largest]\n",
    "        i = largest\n",
    "\n",
    "def build_max_heap(arr):  # O(n)\n",
    "    for i in range(len(arr) // 2, -1, -1):\n",
    "        max_sift_down(arr, i, len(arr))\n",
    "\n",
    "def heap_sort(arr):\n",
    "    build_max_heap(arr)\n",
    "    h_size = len(arr)\n",
    "    \n",
    "    for _ in range(len(arr) - 1):  # O(n * log(n))\n",
    "        arr[0], arr[h_size - 1] = arr[h_size - 1], arr[0]\n",
    "        h_size -= 1\n",
    "        max_sift_down(arr, 0, h_size)  # O(log(n))"
   ]
  },
  {
   "cell_type": "code",
   "execution_count": 110,
   "id": "6f79c04b",
   "metadata": {},
   "outputs": [
    {
     "data": {
      "text/plain": [
       "[9, 8, 7, 5, 5, 0, 1, 2, 2]"
      ]
     },
     "execution_count": 110,
     "metadata": {},
     "output_type": "execute_result"
    }
   ],
   "source": [
    "arr = [9, 2, 7, 2, 5, 0, 1, 8, 5]\n",
    "build_max_heap(arr)\n",
    "arr"
   ]
  },
  {
   "cell_type": "code",
   "execution_count": 111,
   "id": "b57c621c",
   "metadata": {},
   "outputs": [
    {
     "data": {
      "text/plain": [
       "[0, 1, 2, 2, 5, 5, 7, 8, 9]"
      ]
     },
     "execution_count": 111,
     "metadata": {},
     "output_type": "execute_result"
    }
   ],
   "source": [
    "arr = [9, 2, 7, 2, 5, 0, 1, 8, 5]\n",
    "heap_sort(arr)\n",
    "arr"
   ]
  },
  {
   "cell_type": "markdown",
   "id": "1ab024bb",
   "metadata": {},
   "source": [
    "### QuickSort\n",
    "\n",
    "Сортировка методом разделяй и влавствуй. Выбираем опорный элемент и проходимся по массиву, поддерживая две области: от нуля до $i - 1$ для элементов меньше опорного, от $i$ до $j$ - больше либо равных. Рекурсивно вызываем `quick_sort` на обоих областях пока $p$ и $r$ не сравнятся.\n",
    "* $O(n\\, log(n))$ - avg time, $O(n^2)$ - worst time\n",
    "* $O(1)$ - memory\n",
    "* **Unstable**"
   ]
  },
  {
   "cell_type": "code",
   "execution_count": 115,
   "id": "1d731692",
   "metadata": {},
   "outputs": [],
   "source": [
    "def partition(arr, p, r):\n",
    "    x = arr[r]\n",
    "    i = p\n",
    "    # k = p\n",
    "    for j in range(p, r):\n",
    "        if arr[j] < x:\n",
    "            arr[i], arr[j] = arr[j], arr[i]\n",
    "            i += 1\n",
    "    arr[r], arr[i] = arr[i], arr[r]\n",
    "    return i\n",
    "\n",
    "\n",
    "def quick_sort(arr, p, r):\n",
    "    if p < r:\n",
    "        q = partition(arr, p, r)\n",
    "        quick_sort(arr, p, q - 1)\n",
    "        quick_sort(arr, q + 1, r)"
   ]
  },
  {
   "cell_type": "code",
   "execution_count": 119,
   "id": "b4f83cfe",
   "metadata": {},
   "outputs": [
    {
     "name": "stdout",
     "output_type": "stream",
     "text": [
      "[9, 2, 7, 2, 5, 0, 1, 8, 5]\n",
      "[2, 2, 0, 1] 5 [7, 9, 8, 5]\n"
     ]
    }
   ],
   "source": [
    "arr = [9, 2, 7, 2, 5, 0, 1, 8, 5]\n",
    "print(arr)\n",
    "\n",
    "q = partition(arr, 0, len(arr) - 1)\n",
    "print(arr[:q], arr[q], arr[q+1:])"
   ]
  },
  {
   "cell_type": "code",
   "execution_count": 4,
   "id": "862f9634",
   "metadata": {},
   "outputs": [
    {
     "data": {
      "text/plain": [
       "[0, 1, 2, 2, 5, 5, 7, 8, 9]"
      ]
     },
     "execution_count": 4,
     "metadata": {},
     "output_type": "execute_result"
    }
   ],
   "source": [
    "arr = [9, 2, 7, 2, 5, 0, 1, 8, 5]\n",
    "quick_sort(arr, 0, len(arr) - 1)\n",
    "arr"
   ]
  },
  {
   "cell_type": "markdown",
   "id": "8c5465fa",
   "metadata": {},
   "source": [
    "Если в массиве много одинаковых чисел, то стоит использовать 3 разбиения, а не 2, не рассматривая элементы с одинаковым значением."
   ]
  },
  {
   "cell_type": "code",
   "execution_count": 5,
   "id": "c522d132",
   "metadata": {},
   "outputs": [],
   "source": [
    "import random\n",
    "\n",
    "def quick_sort3(nums):\n",
    "    if len(nums) <= 1:\n",
    "        return nums\n",
    "    q = random.choice(nums)\n",
    "    s_nums = []\n",
    "    m_nums = []\n",
    "    e_nums = []\n",
    "    for n in nums:\n",
    "        if n < q:\n",
    "            s_nums.append(n)\n",
    "        elif n > q:\n",
    "            m_nums.append(n)\n",
    "        else:\n",
    "            e_nums.append(n)\n",
    "    return quick_sort3(s_nums) + e_nums + quick_sort3(m_nums)"
   ]
  },
  {
   "cell_type": "code",
   "execution_count": 11,
   "id": "8891d342",
   "metadata": {},
   "outputs": [],
   "source": [
    "arr = []\n",
    "for i in range(100):\n",
    "    arr += [i] * 1000"
   ]
  },
  {
   "cell_type": "code",
   "execution_count": 12,
   "id": "35ba9882",
   "metadata": {},
   "outputs": [
    {
     "name": "stdout",
     "output_type": "stream",
     "text": [
      "CPU times: total: 2.47 s\n",
      "Wall time: 2.47 s\n"
     ]
    }
   ],
   "source": [
    "%%time\n",
    "quick_sort(arr, 0, len(arr) - 1)"
   ]
  },
  {
   "cell_type": "code",
   "execution_count": 13,
   "id": "f742ff4b",
   "metadata": {},
   "outputs": [
    {
     "name": "stdout",
     "output_type": "stream",
     "text": [
      "CPU times: total: 46.9 ms\n",
      "Wall time: 46.9 ms\n"
     ]
    }
   ],
   "source": [
    "%%time\n",
    "s = quick_sort3(arr)"
   ]
  },
  {
   "cell_type": "markdown",
   "id": "010df775",
   "metadata": {},
   "source": [
    "### Count Sort\n",
    "\n",
    "Подходит для массивов с ограниченным числом ключей $m$. Создаем массив $B$, который подсчитывает уникальные элементы в $A$. Кумулятивно складывая количество вхождений получаем индексы последнего уникального элемента в отсортированном массиве $A_s$. Проходим по изначальному массиву с конца, получаем индекс элемента $B[a]$ и вставляем на это место в отсортированном массиве.\n",
    "\n",
    "* $O(n + m)$ - avg and worst time\n",
    "* $O(n + m)$ - memory\n",
    "* **Stable**, так как уникальные элементы вставляются в массив справа налево, поэтому по изначальному массиву тоже проходим справа налево. Стабильность важна для использования `count_sort` в поразрядной сортировке."
   ]
  },
  {
   "cell_type": "code",
   "execution_count": 7,
   "id": "53ba2806",
   "metadata": {},
   "outputs": [],
   "source": [
    "def count_sort(arr, m):\n",
    "    brr = [0] * m\n",
    "    s_arr = [0] * len(arr)\n",
    "    for j in range(len(arr)):\n",
    "        a = arr[j]  # уникальный элемент в arr/ индекс в массиве brr\n",
    "        brr[a] += 1\n",
    "    for a in range(1, m):\n",
    "        brr[a] = brr[a] + brr[a - 1]\n",
    "    for j in range(len(arr) - 1, -1, -1):\n",
    "        a = arr[j]\n",
    "        s_arr[brr[a] - 1] = a\n",
    "        brr[a] -= 1\n",
    "        \n",
    "    return s_arr"
   ]
  },
  {
   "cell_type": "code",
   "execution_count": 8,
   "id": "42b5f17b",
   "metadata": {
    "scrolled": true
   },
   "outputs": [
    {
     "name": "stdout",
     "output_type": "stream",
     "text": [
      "[0, 1, 2, 3, 4, 0, 0, 1, 1, 2, 2, 3, 3, 4, 4, 0, 0, 0, 1, 1, 1, 2, 2, 2, 3, 3, 3, 4, 4, 4, 0, 0, 0, 0, 1, 1, 1, 1, 2, 2, 2, 2, 3, 3, 3, 3, 4, 4, 4, 4]\n"
     ]
    }
   ],
   "source": [
    "arr =[]\n",
    "for i in range(5):\n",
    "    for j in range(5):\n",
    "        arr += [j] * i\n",
    "print(arr)"
   ]
  },
  {
   "cell_type": "code",
   "execution_count": 10,
   "id": "50625e0b",
   "metadata": {},
   "outputs": [
    {
     "name": "stdout",
     "output_type": "stream",
     "text": [
      "[0, 0, 0, 0, 0, 0, 0, 0, 0, 0, 1, 1, 1, 1, 1, 1, 1, 1, 1, 1, 2, 2, 2, 2, 2, 2, 2, 2, 2, 2, 3, 3, 3, 3, 3, 3, 3, 3, 3, 3, 4, 4, 4, 4, 4, 4, 4, 4, 4, 4]\n"
     ]
    }
   ],
   "source": [
    "print(count_sort(arr, 5))"
   ]
  },
  {
   "cell_type": "markdown",
   "id": "e3b92941",
   "metadata": {},
   "source": [
    "### Radix Sort\n",
    "\n",
    "Сортировка подсчетом вызывается для каждого из $d$ разрядов, начиная с единичного. Благодаря стабильности `count_sort` последующих разрядов не перемешивает предыдущие.\n",
    "\n",
    "* $O(d n)$ - avg and worst time\n",
    "* $O(n)$ - memory\n",
    "* **Stable**"
   ]
  },
  {
   "cell_type": "code",
   "execution_count": 18,
   "id": "99698453",
   "metadata": {},
   "outputs": [],
   "source": [
    "def countingSortForRadix(inputArray, placeValue):\n",
    "    # placeValue - digit position in the number (1, 10, 100, ...)\n",
    "    countArray = [0] * 10\n",
    "    inputSize = len(inputArray)\n",
    "    \n",
    "    for i in range(inputSize): \n",
    "        # if given number = 123, placeValue = 10, then placeElement = 2\n",
    "        placeElement = (inputArray[i] // placeValue) % 10\n",
    "        countArray[placeElement] += 1\n",
    "\n",
    "    for i in range(1, 10):\n",
    "        countArray[i] += countArray[i-1]\n",
    "        \n",
    "    # Reconstructing the output array\n",
    "    outputArray = [0] * inputSize\n",
    "    i = inputSize - 1\n",
    "    while i >= 0:\n",
    "        currentEl = inputArray[i]\n",
    "        placeElement = (currentEl // placeValue) % 10\n",
    "        countArray[placeElement] -= 1\n",
    "        \n",
    "        newPosition = countArray[placeElement]\n",
    "        outputArray[newPosition] = currentEl\n",
    "        i -= 1\n",
    "        \n",
    "    return outputArray\n",
    "\n",
    "\n",
    "def radixSort(array):\n",
    "    # Step 1 -> Find the maximum element in the input array\n",
    "    maxEl = max(array)\n",
    "    \n",
    "    # Step 2 -> Find the number of digits in the `max` element\n",
    "    D = 1\n",
    "    while maxEl > 0:\n",
    "        maxEl /= 10\n",
    "        D += 1\n",
    "    \n",
    "    # Step 3 -> Initialize the place value to the least significant place\n",
    "    placeVal = 1\n",
    "    while D > 0:\n",
    "        array = countingSortForRadix(array, placeVal)\n",
    "        placeVal *= 10  \n",
    "        D -= 1\n",
    "        \n",
    "    return array"
   ]
  },
  {
   "cell_type": "code",
   "execution_count": 27,
   "id": "e82846b7",
   "metadata": {},
   "outputs": [
    {
     "name": "stdout",
     "output_type": "stream",
     "text": [
      "[120, 119, 118, 117, 116, 115, 114, 113, 112, 111, 110, 109, 108, 107, 106, 105, 104, 103, 102, 101, 100, 99, 98, 97, 96]\n"
     ]
    }
   ],
   "source": [
    "arr = [i for i in range(120, 95, -1)]\n",
    "print(arr)"
   ]
  },
  {
   "cell_type": "code",
   "execution_count": 28,
   "id": "9674ef46",
   "metadata": {
    "scrolled": true
   },
   "outputs": [
    {
     "name": "stdout",
     "output_type": "stream",
     "text": [
      "[96, 97, 98, 99, 100, 101, 102, 103, 104, 105, 106, 107, 108, 109, 110, 111, 112, 113, 114, 115, 116, 117, 118, 119, 120]\n"
     ]
    }
   ],
   "source": [
    "print(radixSort(arr))"
   ]
  },
  {
   "cell_type": "code",
   "execution_count": null,
   "id": "95ae7582",
   "metadata": {},
   "outputs": [],
   "source": []
  }
 ],
 "metadata": {
  "kernelspec": {
   "display_name": "Python 3 (ipykernel)",
   "language": "python",
   "name": "python3"
  },
  "language_info": {
   "codemirror_mode": {
    "name": "ipython",
    "version": 3
   },
   "file_extension": ".py",
   "mimetype": "text/x-python",
   "name": "python",
   "nbconvert_exporter": "python",
   "pygments_lexer": "ipython3",
   "version": "3.10.2"
  }
 },
 "nbformat": 4,
 "nbformat_minor": 5
}
